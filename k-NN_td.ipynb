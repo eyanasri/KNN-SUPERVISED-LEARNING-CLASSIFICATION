{
 "metadata": {
  "language_info": {
   "codemirror_mode": {
    "name": "ipython",
    "version": 3
   },
   "file_extension": ".py",
   "mimetype": "text/x-python",
   "name": "python",
   "nbconvert_exporter": "python",
   "pygments_lexer": "ipython3",
   "version": "3.8.5"
  },
  "orig_nbformat": 2,
  "kernelspec": {
   "name": "python385jvsc74a57bd06aa1a8b2ed28e89771df5352948886da4de96dc4e60e47b144f18524ed7d54c2",
   "display_name": "Python 3.8.5 64-bit ('base': conda)"
  }
 },
 "nbformat": 4,
 "nbformat_minor": 2,
 "cells": [
  {
   "source": [
    "# Brahim Smaoui \n",
    "## 4 ERP BI 2 \n",
    "KNN supervisé "
   ],
   "cell_type": "markdown",
   "metadata": {}
  },
  {
   "source": [
    "## Exercice 1 :\n",
    "### Supposons que l’on a un problème de classification qui consiste à déterminer la classe\n",
    "### d’appartenance de nouvelles instances Xi. Le domaine de valeurs des classes possibles est 1, 2, 3.\n",
    "### Selon la base de connaissance suivante, déterminez à la main (ou à l’aide d’un tableur) la classe\n",
    "### de l’instance X6, dont les valeurs pour les attributs numériques A1 à A5 sont <3,12, 4, 7, 8>, à\n",
    "### l’aide de l’algorithme des k-voisins les plus proches (K-NN) avec K=1 puis K=3."
   ],
   "cell_type": "markdown",
   "metadata": {}
  },
  {
   "cell_type": "code",
   "execution_count": 78,
   "metadata": {},
   "outputs": [],
   "source": [
    "import pandas as pd \n",
    "import numpy as np \n",
    "\n",
    "df = pd.read_excel(\"knn_ex1.xlsx\")"
   ]
  },
  {
   "cell_type": "code",
   "execution_count": 113,
   "metadata": {},
   "outputs": [
    {
     "output_type": "execute_result",
     "data": {
      "text/plain": [
       "0    1.0\n",
       "1    2.0\n",
       "2    3.0\n",
       "3    3.0\n",
       "4    2.0\n",
       "5    NaN\n",
       "Name: Classe, dtype: float64"
      ]
     },
     "metadata": {},
     "execution_count": 113
    }
   ],
   "source": [
    "X = df.iloc[:,:6]\n",
    "y = df.iloc[:,5]"
   ]
  },
  {
   "cell_type": "code",
   "execution_count": 135,
   "metadata": {},
   "outputs": [
    {
     "output_type": "execute_result",
     "data": {
      "text/plain": [
       "   A1  A2  A3  A4   A5  Classe\n",
       "0   3   5   4    6   1     1.0\n",
       "1   4   6  10    3   2     2.0\n",
       "2   8   3   4    2   6     3.0\n",
       "3   2   1   4    3   6     3.0\n",
       "4   2   5   1    4   8     2.0\n",
       "5   3  12   4    7   8     NaN"
      ],
      "text/html": "<div>\n<style scoped>\n    .dataframe tbody tr th:only-of-type {\n        vertical-align: middle;\n    }\n\n    .dataframe tbody tr th {\n        vertical-align: top;\n    }\n\n    .dataframe thead th {\n        text-align: right;\n    }\n</style>\n<table border=\"1\" class=\"dataframe\">\n  <thead>\n    <tr style=\"text-align: right;\">\n      <th></th>\n      <th>A1</th>\n      <th>A2</th>\n      <th>A3</th>\n      <th>A4</th>\n      <th>A5</th>\n      <th>Classe</th>\n    </tr>\n  </thead>\n  <tbody>\n    <tr>\n      <th>0</th>\n      <td>3</td>\n      <td>5</td>\n      <td>4</td>\n      <td>6</td>\n      <td>1</td>\n      <td>1.0</td>\n    </tr>\n    <tr>\n      <th>1</th>\n      <td>4</td>\n      <td>6</td>\n      <td>10</td>\n      <td>3</td>\n      <td>2</td>\n      <td>2.0</td>\n    </tr>\n    <tr>\n      <th>2</th>\n      <td>8</td>\n      <td>3</td>\n      <td>4</td>\n      <td>2</td>\n      <td>6</td>\n      <td>3.0</td>\n    </tr>\n    <tr>\n      <th>3</th>\n      <td>2</td>\n      <td>1</td>\n      <td>4</td>\n      <td>3</td>\n      <td>6</td>\n      <td>3.0</td>\n    </tr>\n    <tr>\n      <th>4</th>\n      <td>2</td>\n      <td>5</td>\n      <td>1</td>\n      <td>4</td>\n      <td>8</td>\n      <td>2.0</td>\n    </tr>\n    <tr>\n      <th>5</th>\n      <td>3</td>\n      <td>12</td>\n      <td>4</td>\n      <td>7</td>\n      <td>8</td>\n      <td>NaN</td>\n    </tr>\n  </tbody>\n</table>\n</div>"
     },
     "metadata": {},
     "execution_count": 135
    }
   ],
   "source": [
    "df"
   ]
  },
  {
   "source": [
    "## Pour K = 1 "
   ],
   "cell_type": "markdown",
   "metadata": {}
  },
  {
   "cell_type": "code",
   "execution_count": 142,
   "metadata": {},
   "outputs": [],
   "source": [
    "X_test = pd.DataFrame(df.iloc[5,:5]).transpose()\n",
    "X_train = pd.DataFrame(df.iloc[:5,:5])\n",
    "y_train = pd.DataFrame(df.iloc[:5,5])"
   ]
  },
  {
   "cell_type": "code",
   "execution_count": 143,
   "metadata": {},
   "outputs": [
    {
     "output_type": "execute_result",
     "data": {
      "text/plain": [
       "   Classe\n",
       "0     1.0\n",
       "1     2.0\n",
       "2     3.0\n",
       "3     3.0\n",
       "4     2.0"
      ],
      "text/html": "<div>\n<style scoped>\n    .dataframe tbody tr th:only-of-type {\n        vertical-align: middle;\n    }\n\n    .dataframe tbody tr th {\n        vertical-align: top;\n    }\n\n    .dataframe thead th {\n        text-align: right;\n    }\n</style>\n<table border=\"1\" class=\"dataframe\">\n  <thead>\n    <tr style=\"text-align: right;\">\n      <th></th>\n      <th>Classe</th>\n    </tr>\n  </thead>\n  <tbody>\n    <tr>\n      <th>0</th>\n      <td>1.0</td>\n    </tr>\n    <tr>\n      <th>1</th>\n      <td>2.0</td>\n    </tr>\n    <tr>\n      <th>2</th>\n      <td>3.0</td>\n    </tr>\n    <tr>\n      <th>3</th>\n      <td>3.0</td>\n    </tr>\n    <tr>\n      <th>4</th>\n      <td>2.0</td>\n    </tr>\n  </tbody>\n</table>\n</div>"
     },
     "metadata": {},
     "execution_count": 143
    }
   ],
   "source": [
    "y_train"
   ]
  },
  {
   "cell_type": "code",
   "execution_count": 145,
   "metadata": {},
   "outputs": [
    {
     "output_type": "execute_result",
     "data": {
      "text/plain": [
       "    A1    A2   A3  A4    A5\n",
       "5  3.0  12.0  4.0  7.0  8.0"
      ],
      "text/html": "<div>\n<style scoped>\n    .dataframe tbody tr th:only-of-type {\n        vertical-align: middle;\n    }\n\n    .dataframe tbody tr th {\n        vertical-align: top;\n    }\n\n    .dataframe thead th {\n        text-align: right;\n    }\n</style>\n<table border=\"1\" class=\"dataframe\">\n  <thead>\n    <tr style=\"text-align: right;\">\n      <th></th>\n      <th>A1</th>\n      <th>A2</th>\n      <th>A3</th>\n      <th>A4</th>\n      <th>A5</th>\n    </tr>\n  </thead>\n  <tbody>\n    <tr>\n      <th>5</th>\n      <td>3.0</td>\n      <td>12.0</td>\n      <td>4.0</td>\n      <td>7.0</td>\n      <td>8.0</td>\n    </tr>\n  </tbody>\n</table>\n</div>"
     },
     "metadata": {},
     "execution_count": 145
    }
   ],
   "source": [
    "X_test"
   ]
  },
  {
   "cell_type": "code",
   "execution_count": 146,
   "metadata": {},
   "outputs": [
    {
     "output_type": "execute_result",
     "data": {
      "text/plain": [
       "(5, 5)"
      ]
     },
     "metadata": {},
     "execution_count": 146
    }
   ],
   "source": [
    "X_train.shape"
   ]
  },
  {
   "cell_type": "code",
   "execution_count": 147,
   "metadata": {},
   "outputs": [
    {
     "output_type": "stream",
     "name": "stderr",
     "text": [
      "<ipython-input-147-4e25cfda530b>:3: DataConversionWarning: A column-vector y was passed when a 1d array was expected. Please change the shape of y to (n_samples, ), for example using ravel().\n  knn_model = knn.fit(X_train, y_train)\n"
     ]
    }
   ],
   "source": [
    "from sklearn.neighbors import KNeighborsClassifier\n",
    "knn = KNeighborsClassifier(1)\n",
    "knn_model = knn.fit(X_train, y_train)\n",
    "y_pred_knn = knn_model.predict(X_test)"
   ]
  },
  {
   "cell_type": "code",
   "execution_count": 148,
   "metadata": {},
   "outputs": [
    {
     "output_type": "execute_result",
     "data": {
      "text/plain": [
       "array([2.])"
      ]
     },
     "metadata": {},
     "execution_count": 148
    }
   ],
   "source": [
    "y_pred_knn"
   ]
  },
  {
   "source": [
    "## D'aprés Knn pour K = 1 , l'instance X1 appartient à la classe 2 ."
   ],
   "cell_type": "markdown",
   "metadata": {}
  },
  {
   "source": [
    "### Pour K = 3"
   ],
   "cell_type": "markdown",
   "metadata": {}
  },
  {
   "cell_type": "code",
   "execution_count": 150,
   "metadata": {},
   "outputs": [
    {
     "output_type": "stream",
     "name": "stderr",
     "text": [
      "<ipython-input-150-5512f27aa943>:2: DataConversionWarning: A column-vector y was passed when a 1d array was expected. Please change the shape of y to (n_samples, ), for example using ravel().\n  knn_model = knn.fit(X_train, y_train)\n"
     ]
    }
   ],
   "source": [
    "knn = KNeighborsClassifier(3)\n",
    "knn_model = knn.fit(X_train, y_train)\n",
    "y_pred_knn = knn_model.predict(X_test)"
   ]
  },
  {
   "cell_type": "code",
   "execution_count": 151,
   "metadata": {},
   "outputs": [
    {
     "output_type": "execute_result",
     "data": {
      "text/plain": [
       "array([2.])"
      ]
     },
     "metadata": {},
     "execution_count": 151
    }
   ],
   "source": [
    "y_pred_knn"
   ]
  },
  {
   "source": [
    "### Meme chose pour K = 3 "
   ],
   "cell_type": "markdown",
   "metadata": {}
  },
  {
   "source": [
    "## Exercie 2 : "
   ],
   "cell_type": "markdown",
   "metadata": {}
  },
  {
   "source": [
    "### 1. Donner le principe algorithmique de la méthode k plus proches voisins.\n",
    "\n",
    "#### A partir d'un jeux de données labelisés,on peut prédire la classe d'une nouvelles donnée en regardant quelle est la K classe (la plus proche),\n",
    "#### la méthode Knn repose principalement sur le calcul de distance\n",
    "#### le seul paramètre à fixer est K nombre de voisins.\n",
    "#### La métrique la plus utilisée est la distance Euclidienne \n",
    "####"
   ],
   "cell_type": "markdown",
   "metadata": {}
  },
  {
   "source": [
    "### 2.Comment jugez-vous l’impact du choix de la valeur de k (nombre de voisins) sur la performance du modèle de classification ?\n",
    "\n",
    "#### En général, moinson utilisera de voisins (K petit) plus on sera sujet de sous apprentissage (UNDERFITTING), inversement, si on utilise un grandnombre de voisin (K grand), la prédiction sera fiable, toute fois si on utilise K =N ou N est le nombre d'observations, on risque d'avoir du OVERFITTING .\n",
    "\n",
    "\n",
    "### 3.On vous donne l’individu I ayant les valeurs suivantes : X1 = (-1) et X2 = (-1). Calculer son affectation par rapport à la variable cible Y en considérant deux voisins et la métrique de distance d(I, J) = min(|X1(I) – X1(J)|, |X2(I) – X2(J)|):"
   ],
   "cell_type": "markdown",
   "metadata": {}
  },
  {
   "cell_type": "code",
   "execution_count": 12,
   "metadata": {},
   "outputs": [
    {
     "output_type": "stream",
     "name": "stdout",
     "text": [
      "G1 : ( 0.5 , 0.5 )\nG2 : ( 2.6666666666666665 , 2.6666666666666665 )\n"
     ]
    }
   ],
   "source": [
    "import pandas as pd\n",
    "## calcul des centres\n",
    "# Y = True \n",
    "XT = 0+1/2\n",
    "yT = 0+1/2\n",
    "# Y = False \n",
    "XF = (0+4+4)/3 \n",
    "yF = (1+5+2)/3 \n",
    "\n",
    "print(\"G1 : (\",XT,\",\",yT,\")\")\n",
    "\n",
    "print(\"G2 : (\",XF,\",\",yF,\")\")"
   ]
  },
  {
   "cell_type": "code",
   "execution_count": 16,
   "metadata": {},
   "outputs": [
    {
     "output_type": "stream",
     "name": "stdout",
     "text": [
      "distance entre I et G1 =  2.1213203435596424\ndistance entre I et G2 =  5.185449728701348\n"
     ]
    }
   ],
   "source": [
    "from math import *\n",
    "## Calcul distance du point I (-1,-1)\n",
    "##distance par rapport au G1 : \n",
    "dist_I_G1T = sqrt((-1-XT)**2+(-1-yT)**2)\n",
    "dist_I_G2F = sqrt((-1-XF)**2+(-1-yF)**2)\n",
    "print(\"distance entre I et G1 = \",dist_I_G1T)\n",
    "print(\"distance entre I et G2 = \",dist_I_G2F)\n"
   ]
  },
  {
   "source": [
    "### Conclusion : \n",
    "Le point I est plus proche du groupe 1 (T)\n",
    "\n"
   ],
   "cell_type": "markdown",
   "metadata": {}
  },
  {
   "cell_type": "code",
   "execution_count": null,
   "metadata": {},
   "outputs": [],
   "source": []
  },
  {
   "cell_type": "code",
   "execution_count": null,
   "metadata": {},
   "outputs": [],
   "source": []
  }
 ]
}